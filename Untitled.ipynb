{
 "cells": [
  {
   "cell_type": "code",
   "execution_count": 175,
   "id": "be509996",
   "metadata": {},
   "outputs": [],
   "source": [
    "import pandas as pd\n",
    "import datetime\n",
    "import re\n",
    "import matplotlib.pyplot as plt"
   ]
  },
  {
   "cell_type": "code",
   "execution_count": 176,
   "id": "aa7da1f9",
   "metadata": {},
   "outputs": [],
   "source": [
    "def get_ms(timestamp):\n",
    "    lines = re.split('\\:|\\.', timestamp)\n",
    "    return datetime.timedelta(hours=int(lines[0]),minutes=int(lines[1]),seconds=int(lines[2]),milliseconds=int(lines[3]))"
   ]
  },
  {
   "cell_type": "code",
   "execution_count": 251,
   "id": "1c6347eb",
   "metadata": {},
   "outputs": [],
   "source": [
    "def is_time_stamp(timestamp):\n",
    "    try:\n",
    "        get_ms(timestamp)\n",
    "        return True\n",
    "    except ValueError:\n",
    "        return False\n",
    "    except IndexError:\n",
    "        return False"
   ]
  },
  {
   "cell_type": "code",
   "execution_count": 260,
   "id": "f74bc3ff",
   "metadata": {},
   "outputs": [
    {
     "name": "stdout",
     "output_type": "stream",
     "text": [
      "\n",
      " skipped due to not having time stamp\n"
     ]
    }
   ],
   "source": [
    "t1_list = []\n",
    "t2_list = []\n",
    "diffs = []\n",
    "for name in [f\"Downloads/uhd_{i}.txt\" for i in range(1,4)]:\n",
    "    with open(name, errors=\"ignore\") as f:\n",
    "        images = f.read().split(\"\\n\\n\\n\")\n",
    "        for i in images:\n",
    "            l = list(filter(is_time_stamp, i.split('\\n')))\n",
    "            if (len(l) < 2):\n",
    "                print(i, \"skipped due to not having time stamp\")\n",
    "                continue\n",
    "                \n",
    "            t1 = get_ms(l[0])\n",
    "            t2 = get_ms(l[1])\n",
    "            diff = (t2 - t1).total_seconds() * 1000\n",
    "            \n",
    "            if diff < 50:\n",
    "                print(i, \"skipped due to incorrect ocr\")\n",
    "                continue\n",
    "            \n",
    "            t1_list.append(t1)\n",
    "            t2_list.append(t2)\n",
    "            diffs.append(diff)"
   ]
  },
  {
   "cell_type": "code",
   "execution_count": 261,
   "id": "12fd1c40",
   "metadata": {},
   "outputs": [],
   "source": [
    "d = {'t1': [str(i) for i in t1_list], 't2': [str(i) for i in t2_list], 'diff': diffs}"
   ]
  },
  {
   "cell_type": "code",
   "execution_count": 262,
   "id": "1abf6f31",
   "metadata": {},
   "outputs": [
    {
     "data": {
      "text/plain": [
       "112"
      ]
     },
     "execution_count": 262,
     "metadata": {},
     "output_type": "execute_result"
    }
   ],
   "source": [
    "len(diffs)"
   ]
  },
  {
   "cell_type": "code",
   "execution_count": 263,
   "id": "ab86dcd8",
   "metadata": {},
   "outputs": [],
   "source": [
    "df = pd.DataFrame(data=d)"
   ]
  },
  {
   "cell_type": "code",
   "execution_count": 264,
   "id": "1b899f2c",
   "metadata": {},
   "outputs": [],
   "source": [
    "df.to_csv(\"Downloads/uhd_4k.csv\")\n",
    "df.to_excel(\"Downloads/uhd_4k.xlsx\")"
   ]
  },
  {
   "cell_type": "code",
   "execution_count": 265,
   "id": "fa5e4f1e",
   "metadata": {},
   "outputs": [
    {
     "data": {
      "text/html": [
       "<div>\n",
       "<style scoped>\n",
       "    .dataframe tbody tr th:only-of-type {\n",
       "        vertical-align: middle;\n",
       "    }\n",
       "\n",
       "    .dataframe tbody tr th {\n",
       "        vertical-align: top;\n",
       "    }\n",
       "\n",
       "    .dataframe thead th {\n",
       "        text-align: right;\n",
       "    }\n",
       "</style>\n",
       "<table border=\"1\" class=\"dataframe\">\n",
       "  <thead>\n",
       "    <tr style=\"text-align: right;\">\n",
       "      <th></th>\n",
       "      <th>t1</th>\n",
       "      <th>t2</th>\n",
       "      <th>diff</th>\n",
       "    </tr>\n",
       "  </thead>\n",
       "  <tbody>\n",
       "    <tr>\n",
       "      <th>0</th>\n",
       "      <td>0:03:50.053000</td>\n",
       "      <td>0:03:50.228000</td>\n",
       "      <td>175.0</td>\n",
       "    </tr>\n",
       "    <tr>\n",
       "      <th>1</th>\n",
       "      <td>0:03:49.182000</td>\n",
       "      <td>0:03:49.356000</td>\n",
       "      <td>174.0</td>\n",
       "    </tr>\n",
       "    <tr>\n",
       "      <th>2</th>\n",
       "      <td>0:03:48.077000</td>\n",
       "      <td>0:03:48.194000</td>\n",
       "      <td>117.0</td>\n",
       "    </tr>\n",
       "    <tr>\n",
       "      <th>3</th>\n",
       "      <td>0:03:47.147000</td>\n",
       "      <td>0:03:47.264000</td>\n",
       "      <td>117.0</td>\n",
       "    </tr>\n",
       "    <tr>\n",
       "      <th>4</th>\n",
       "      <td>0:03:46.157000</td>\n",
       "      <td>0:03:46.333000</td>\n",
       "      <td>176.0</td>\n",
       "    </tr>\n",
       "    <tr>\n",
       "      <th>5</th>\n",
       "      <td>0:03:45.113000</td>\n",
       "      <td>0:03:45.288000</td>\n",
       "      <td>175.0</td>\n",
       "    </tr>\n",
       "    <tr>\n",
       "      <th>6</th>\n",
       "      <td>0:03:44.240000</td>\n",
       "      <td>0:03:44.356000</td>\n",
       "      <td>116.0</td>\n",
       "    </tr>\n",
       "    <tr>\n",
       "      <th>7</th>\n",
       "      <td>0:03:43.253000</td>\n",
       "      <td>0:03:43.428000</td>\n",
       "      <td>175.0</td>\n",
       "    </tr>\n",
       "    <tr>\n",
       "      <th>8</th>\n",
       "      <td>0:03:42.263000</td>\n",
       "      <td>0:03:42.379000</td>\n",
       "      <td>116.0</td>\n",
       "    </tr>\n",
       "    <tr>\n",
       "      <th>9</th>\n",
       "      <td>0:03:41.273000</td>\n",
       "      <td>0:03:41.448000</td>\n",
       "      <td>175.0</td>\n",
       "    </tr>\n",
       "    <tr>\n",
       "      <th>10</th>\n",
       "      <td>0:03:40.284000</td>\n",
       "      <td>0:03:40.458000</td>\n",
       "      <td>174.0</td>\n",
       "    </tr>\n",
       "    <tr>\n",
       "      <th>11</th>\n",
       "      <td>0:03:39.178000</td>\n",
       "      <td>0:03:39.352000</td>\n",
       "      <td>174.0</td>\n",
       "    </tr>\n",
       "    <tr>\n",
       "      <th>12</th>\n",
       "      <td>0:03:38.188000</td>\n",
       "      <td>0:03:38.362000</td>\n",
       "      <td>174.0</td>\n",
       "    </tr>\n",
       "    <tr>\n",
       "      <th>13</th>\n",
       "      <td>0:03:37.318000</td>\n",
       "      <td>0:03:37.434000</td>\n",
       "      <td>116.0</td>\n",
       "    </tr>\n",
       "    <tr>\n",
       "      <th>14</th>\n",
       "      <td>0:03:36.329000</td>\n",
       "      <td>0:03:36.503000</td>\n",
       "      <td>174.0</td>\n",
       "    </tr>\n",
       "    <tr>\n",
       "      <th>15</th>\n",
       "      <td>0:03:35.339000</td>\n",
       "      <td>0:03:35.514000</td>\n",
       "      <td>175.0</td>\n",
       "    </tr>\n",
       "    <tr>\n",
       "      <th>16</th>\n",
       "      <td>0:03:34.352000</td>\n",
       "      <td>0:03:34.526000</td>\n",
       "      <td>174.0</td>\n",
       "    </tr>\n",
       "    <tr>\n",
       "      <th>17</th>\n",
       "      <td>0:03:33.306000</td>\n",
       "      <td>0:03:33.480000</td>\n",
       "      <td>174.0</td>\n",
       "    </tr>\n",
       "    <tr>\n",
       "      <th>18</th>\n",
       "      <td>0:03:32.375000</td>\n",
       "      <td>0:03:32.492000</td>\n",
       "      <td>117.0</td>\n",
       "    </tr>\n",
       "    <tr>\n",
       "      <th>19</th>\n",
       "      <td>0:03:31.445000</td>\n",
       "      <td>0:03:31.619000</td>\n",
       "      <td>174.0</td>\n",
       "    </tr>\n",
       "  </tbody>\n",
       "</table>\n",
       "</div>"
      ],
      "text/plain": [
       "                t1              t2   diff\n",
       "0   0:03:50.053000  0:03:50.228000  175.0\n",
       "1   0:03:49.182000  0:03:49.356000  174.0\n",
       "2   0:03:48.077000  0:03:48.194000  117.0\n",
       "3   0:03:47.147000  0:03:47.264000  117.0\n",
       "4   0:03:46.157000  0:03:46.333000  176.0\n",
       "5   0:03:45.113000  0:03:45.288000  175.0\n",
       "6   0:03:44.240000  0:03:44.356000  116.0\n",
       "7   0:03:43.253000  0:03:43.428000  175.0\n",
       "8   0:03:42.263000  0:03:42.379000  116.0\n",
       "9   0:03:41.273000  0:03:41.448000  175.0\n",
       "10  0:03:40.284000  0:03:40.458000  174.0\n",
       "11  0:03:39.178000  0:03:39.352000  174.0\n",
       "12  0:03:38.188000  0:03:38.362000  174.0\n",
       "13  0:03:37.318000  0:03:37.434000  116.0\n",
       "14  0:03:36.329000  0:03:36.503000  174.0\n",
       "15  0:03:35.339000  0:03:35.514000  175.0\n",
       "16  0:03:34.352000  0:03:34.526000  174.0\n",
       "17  0:03:33.306000  0:03:33.480000  174.0\n",
       "18  0:03:32.375000  0:03:32.492000  117.0\n",
       "19  0:03:31.445000  0:03:31.619000  174.0"
      ]
     },
     "execution_count": 265,
     "metadata": {},
     "output_type": "execute_result"
    }
   ],
   "source": [
    "df.head(n=20)"
   ]
  },
  {
   "cell_type": "code",
   "execution_count": 266,
   "id": "a0d09e94",
   "metadata": {},
   "outputs": [
    {
     "data": {
      "image/png": "[encoded data removed]",
      "text/plain": [
       "<Figure size 432x288 with 1 Axes>"
      ]
     },
     "metadata": {
      "needs_background": "light"
     },
     "output_type": "display_data"
    }
   ],
   "source": [
    "plt.boxplot(diffs, vert=0)\n",
    "plt.xlabel(\"Latency (ms)\")\n",
    "plt.show()"
   ]
  },
  {
   "cell_type": "code",
   "execution_count": 267,
   "id": "4f0e0b0c",
   "metadata": {},
   "outputs": [
    {
     "name": "stderr",
     "output_type": "stream",
     "text": [
      "No artists with labels found to put in legend.  Note that artists whose label start with an underscore are ignored when legend() is called with no argument.\n"
     ]
    },
    {
     "data": {
      "image/png": "[encoded data removed]",
      "text/plain": [
       "<Figure size 432x288 with 1 Axes>"
      ]
     },
     "metadata": {
      "needs_background": "light"
     },
     "output_type": "display_data"
    }
   ],
   "source": [
    "plt.hist(diffs)\n",
    "plt.xlabel(\"Latency (ms)\")\n",
    "plt.legend()\n",
    "plt.show()"
   ]
  },
  {
   "cell_type": "code",
   "execution_count": null,
   "id": "b1f241e0",
   "metadata": {},
   "outputs": [],
   "source": []
  }
 ],
 "metadata": {
  "kernelspec": {
   "display_name": "Python 3 (ipykernel)",
   "language": "python",
   "name": "python3"
  },
  "language_info": {
   "codemirror_mode": {
    "name": "ipython",
    "version": 3
   },
   "file_extension": ".py",
   "mimetype": "text/x-python",
   "name": "python",
   "nbconvert_exporter": "python",
   "pygments_lexer": "ipython3",
   "version": "3.9.12"
  }
 },
 "nbformat": 4,
 "nbformat_minor": 5
}
